{
 "cells": [
  {
   "cell_type": "markdown",
   "id": "05e69c4b",
   "metadata": {},
   "source": [
    "<a href=\"https://www.viharatech.com\"><img src=\"https://miro.medium.com/v2/resize:fit:828/format:webp/1*on2Bpj6A5gfd-CzaFOAZRA.jpeg\"></a>\n",
    "\n",
    "\n",
    "- `Welcome to our interactive learning session! In this Jupyter notebook, you'll find a series of questions related to Python Set's Concept. To maximize your learning, please write Python code in the cell below each question and execute it. This hands-on practice will help reinforce your understanding of the concepts. Feel free to reach out if you have any questions or need assistance. Happy coding! 💻🐍 `"
   ]
  },
  {
   "cell_type": "markdown",
   "id": "29a5d0ca",
   "metadata": {},
   "source": [
    "### Question 1: Write a function that takes two sets as input and returns their union.\n",
    "- `Sample Input: set1 = {1, 2, 3}, set2 = {3, 4, 5}`\n",
    "- `Sample Output: {1, 2, 3, 4, 5}`"
   ]
  },
  {
   "cell_type": "code",
   "execution_count": null,
   "id": "d8fa8d33",
   "metadata": {},
   "outputs": [],
   "source": [
    "# Please write The solution Here for above question 1:\n",
    "\n",
    "\n"
   ]
  },
  {
   "cell_type": "markdown",
   "id": "21b0b255",
   "metadata": {},
   "source": [
    "### Question 2: Write a function that takes two sets as input and returns their intersection.\n",
    "\n",
    "   - `Sample Input: set1 = {1, 2, 3}, set2 = {3, 4, 5}`\n",
    "   - `Sample Output: {3}`"
   ]
  },
  {
   "cell_type": "code",
   "execution_count": null,
   "id": "4739bdb1",
   "metadata": {},
   "outputs": [],
   "source": [
    "# Please write The solution Here for above question 2:\n",
    "\n",
    "\n"
   ]
  },
  {
   "cell_type": "markdown",
   "id": "e08a4d69",
   "metadata": {},
   "source": [
    "### Question 3:  Write a function that takes two sets as input and returns the elements that are in the first set but not in the second set.\n",
    "- `Sample Input: set1 = {1, 2, 3}, set2 = {3, 4, 5}`\n",
    "- `Sample Output: {1, 2}`"
   ]
  },
  {
   "cell_type": "code",
   "execution_count": null,
   "id": "1f5f0057",
   "metadata": {},
   "outputs": [],
   "source": [
    "# Please write The solution Here for above question 3:\n",
    "\n",
    "\n"
   ]
  },
  {
   "cell_type": "markdown",
   "id": "435400a3",
   "metadata": {},
   "source": [
    "### Question 4: Write a function that checks if one set is a subset of another set.\n",
    "   - `Sample Input: set1 = {1, 2, 3}, set2 = {1, 2, 3, 4, 5}`\n",
    "   - `Sample Output: True`"
   ]
  },
  {
   "cell_type": "code",
   "execution_count": null,
   "id": "21c98286",
   "metadata": {},
   "outputs": [],
   "source": [
    "# Please write The solution Here for above question 4:\n",
    "\n"
   ]
  },
  {
   "cell_type": "markdown",
   "id": "737b661d",
   "metadata": {},
   "source": [
    "### Question 5: Write a function that returns the symmetric difference between two sets.\n",
    "\n",
    "   - `Sample Input: set1 = {1, 2, 3, 4}, set2 = {3, 4, 5, 6}`\n",
    "   - `Sample Output: {1, 2, 5, 6}`"
   ]
  },
  {
   "cell_type": "code",
   "execution_count": null,
   "id": "dcc0f73b",
   "metadata": {},
   "outputs": [],
   "source": [
    "# Please write The solution Here for above question 5:\n",
    "\n",
    "\n"
   ]
  },
  {
   "cell_type": "markdown",
   "id": "33e7f17a",
   "metadata": {},
   "source": [
    "### Question 6:  Write a function that takes a universal set and a subset as input and returns the complement of the subset.\n",
    "\n",
    "   - `Sample Input: universal_set = {1, 2, 3, 4, 5}, subset = {3, 4}`\n",
    "   - `Sample Output: {1, 2, 5}`\n"
   ]
  },
  {
   "cell_type": "code",
   "execution_count": null,
   "id": "2f1b88cf",
   "metadata": {},
   "outputs": [],
   "source": [
    "# Please write The solution Here for above question 6:\n",
    "\n",
    "\n"
   ]
  },
  {
   "cell_type": "markdown",
   "id": "49e7654d",
   "metadata": {},
   "source": [
    "### Question 7 : Write a function that returns the number of elements in a set.\n",
    "\n",
    "   - `Sample Input: my_set = {10, 20, 30, 40, 50}`\n",
    "   - `Sample Output: 5`"
   ]
  },
  {
   "cell_type": "code",
   "execution_count": null,
   "id": "47e259e9",
   "metadata": {},
   "outputs": [],
   "source": [
    "# Please write The solution Here for above question 7:\n",
    "\n",
    "\n"
   ]
  },
  {
   "cell_type": "markdown",
   "id": "0085cb1a",
   "metadata": {},
   "source": [
    "### Question 8 : Write a function that returns the sum of all elements in a set of numbers.\n",
    "\n",
    "   - `Sample Input: num_set = {2, 4, 6, 8, 10}`\n",
    "   - `Sample Output: 30`"
   ]
  },
  {
   "cell_type": "code",
   "execution_count": null,
   "id": "27b6dd0a",
   "metadata": {},
   "outputs": [],
   "source": [
    "# Please write The solution Here for above question 8:\n",
    "\n"
   ]
  },
  {
   "cell_type": "markdown",
   "id": "0d7de8d9",
   "metadata": {},
   "source": [
    "\n",
    "### Question 9 : Write a function that returns the size of the intersection between two sets.\n",
    "\n",
    "   - `Sample Input: set1 = {1, 2, 3, 4}, set2 = {3, 4, 5, 6}`\n",
    "   - `Sample Output: 2`"
   ]
  },
  {
   "cell_type": "code",
   "execution_count": null,
   "id": "313aa9d0",
   "metadata": {},
   "outputs": [],
   "source": [
    "# Please write The solution Here for above question 9:\n",
    "\n",
    "\n"
   ]
  },
  {
   "cell_type": "markdown",
   "id": "28f3a0ca",
   "metadata": {},
   "source": [
    "### Question 10:Write a function that generates the powerset of a given set (all possible subsets).\n",
    "\n",
    "- `Sample Input: my_set = {1, 2}`\n",
    "- `Sample Output: {{}, {1}, {2}, {1, 2}}`"
   ]
  },
  {
   "cell_type": "code",
   "execution_count": null,
   "id": "beedf65c",
   "metadata": {},
   "outputs": [],
   "source": [
    "# Please write The solution Here for above question 10 :\n",
    "\n"
   ]
  }
 ],
 "metadata": {
  "kernelspec": {
   "display_name": "Python 3 (ipykernel)",
   "language": "python",
   "name": "python3"
  },
  "language_info": {
   "codemirror_mode": {
    "name": "ipython",
    "version": 3
   },
   "file_extension": ".py",
   "mimetype": "text/x-python",
   "name": "python",
   "nbconvert_exporter": "python",
   "pygments_lexer": "ipython3",
   "version": "3.11.5"
  }
 },
 "nbformat": 4,
 "nbformat_minor": 5
}
