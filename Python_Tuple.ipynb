{
  "cells": [
    {
      "cell_type": "markdown",
      "id": "b5fabd6b",
      "metadata": {
        "id": "b5fabd6b"
      },
      "source": [
        "<a href=\"https://www.viharatech.com\"><img src=\"https://miro.medium.com/v2/resize:fit:828/format:webp/1*on2Bpj6A5gfd-CzaFOAZRA.jpeg\"></a>\n",
        "\n",
        "\n",
        "- `Welcome to our interactive learning session! In this Jupyter notebook, you'll find a series of questions related to Python Tuple Concept. To maximize your learning, please write Python code in the cell below each question and execute it. This hands-on practice will help reinforce your understanding of the concepts. Feel free to reach out if you have any questions or need assistance. Happy coding! 💻🐍 `"
      ]
    },
    {
      "cell_type": "markdown",
      "id": "db689fc2",
      "metadata": {
        "id": "db689fc2"
      },
      "source": [
        "### Question 1: Write a Python program to create an empty tuple.\n",
        "\n",
        "\n",
        "- `sample input : `\n",
        "    - `var = (10,11,15,20)`\n",
        "- `sample output :`\n",
        "    - `result :()`"
      ]
    },
    {
      "cell_type": "code",
      "execution_count": 1,
      "id": "c9ce9180",
      "metadata": {
        "id": "c9ce9180"
      },
      "outputs": [],
      "source": [
        "# Please write The solution Here for above question 1:\n",
        "\n"
      ]
    },
    {
      "cell_type": "markdown",
      "id": "46f069cc",
      "metadata": {
        "id": "46f069cc"
      },
      "source": [
        "### Question 2: Write a Python program to access the elements of a tuple.\n",
        "\n",
        "- `sample input : `\n",
        "    - `var = (10,15,20,40,55)`\n",
        "- `sample output :`\n",
        "    - `result : Access using Techniques available ex: 20 can be accessed with there memory allocation `"
      ]
    },
    {
      "cell_type": "code",
      "execution_count": 2,
      "id": "2cde3dcc",
      "metadata": {
        "id": "2cde3dcc"
      },
      "outputs": [],
      "source": [
        "# Please write The solution Here for above question 2:\n",
        "\n",
        "\n"
      ]
    },
    {
      "cell_type": "markdown",
      "id": "0f3a2ef5",
      "metadata": {
        "id": "0f3a2ef5"
      },
      "source": [
        "### Question 3: Write a Python program to concatenate two tuples.\n",
        "\n",
        "Sample Input 1:\n",
        "\n",
        "    Tuple 1: (1, 2, 3)\n",
        "    Tuple 2: (4, 5, 6)\n",
        "\n",
        "Sample Output 1:\n",
        "\n",
        "    Concatenated Tuple: (1, 2, 3, 4, 5, 6)\n",
        "\n",
        "Sample Input 2:\n",
        "\n",
        "    Tuple 1: (\"apple\", \"banana\")\n",
        "    Tuple 2: (\"cherry\", \"date\")\n",
        "\n",
        "Sample Output 2:\n",
        "\n",
        "    Concatenated Tuple: (\"apple\", \"banana\", \"cherry\", \"date\")"
      ]
    },
    {
      "cell_type": "code",
      "execution_count": null,
      "id": "74b9f01a",
      "metadata": {
        "id": "74b9f01a"
      },
      "outputs": [],
      "source": [
        "# Please write The solution Here for above question 3:\n",
        "\n",
        "\n",
        "\n"
      ]
    },
    {
      "cell_type": "markdown",
      "id": "98e0fc60",
      "metadata": {
        "id": "98e0fc60"
      },
      "source": [
        "### Question 4: Write a Python program to access the first and last elements of a tuple.\n",
        "\n",
        "- `Sample Input: (1, 2, 3, 4, 5)`\n",
        "\n",
        "\n",
        "- `Sample Output: First Element: 1, Last Element: 5`"
      ]
    },
    {
      "cell_type": "code",
      "execution_count": null,
      "id": "82-GiJtUQqZA",
      "metadata": {
        "id": "82-GiJtUQqZA"
      },
      "outputs": [],
      "source": [
        "# lease write The solution Here for above question 4:\n",
        "\n",
        "\n",
        "\n"
      ]
    },
    {
      "cell_type": "markdown",
      "id": "17eb44eb",
      "metadata": {
        "id": "17eb44eb"
      },
      "source": [
        "### Question 5: Write a Python program to reverse a tuple.\n",
        "\n",
        "- `Sample Input: (5, 4, 3, 2, 1)`\n",
        "- `Sample Output: (1, 2, 3, 4, 5)`"
      ]
    },
    {
      "cell_type": "code",
      "execution_count": null,
      "id": "29f0e87e",
      "metadata": {
        "id": "29f0e87e"
      },
      "outputs": [],
      "source": [
        "# Please write The solution Here for above question 5:\n",
        "\n",
        "\n",
        "\n"
      ]
    },
    {
      "cell_type": "markdown",
      "id": "fac17884",
      "metadata": {
        "id": "fac17884"
      },
      "source": [
        "### Question 6: Write a Python program to find the maximum and minimum elements of a tuple.\n",
        "\n",
        "- `Sample Input: (15, 25, 10, 30, 20)`\n",
        "- `Sample Output: Maximum: 30, Minimum: 10`"
      ]
    },
    {
      "cell_type": "code",
      "execution_count": null,
      "id": "f4b33095",
      "metadata": {
        "id": "f4b33095"
      },
      "outputs": [],
      "source": [
        "# Please write The solution Here for above question 6:\n",
        "\n",
        "\n",
        "\n"
      ]
    },
    {
      "cell_type": "markdown",
      "id": "2170d6f4",
      "metadata": {
        "id": "2170d6f4"
      },
      "source": [
        "### Question 7: Write a Python program to remove an element from a tuple.\n",
        "\n",
        "- `Sample Input: (1, 2, 3, 4, 5), 3`\n",
        "- `Sample Output: (1, 2, 4, 5)`"
      ]
    },
    {
      "cell_type": "code",
      "execution_count": null,
      "id": "f35de8b3",
      "metadata": {
        "id": "f35de8b3"
      },
      "outputs": [],
      "source": [
        "# Please write The solution Here for above question 7:\n",
        "\n",
        "\n"
      ]
    },
    {
      "cell_type": "markdown",
      "id": "f349bdb7",
      "metadata": {
        "id": "f349bdb7"
      },
      "source": [
        "### Question 8: Write a Python program to convert a list of tuples into a dictionary.\n",
        "\n",
        "- `Sample Input: [(1, \"one\"), (2, \"two\"), (3, \"three\")]`\n",
        "- `Sample Output: {1: 'one', 2: 'two', 3: 'three'}`"
      ]
    },
    {
      "cell_type": "code",
      "execution_count": null,
      "id": "a1b4c4e6",
      "metadata": {
        "id": "a1b4c4e6"
      },
      "outputs": [],
      "source": [
        "# Please write The solution Here for above question 8:\n",
        "\n",
        "\n"
      ]
    },
    {
      "cell_type": "markdown",
      "id": "d2770696",
      "metadata": {
        "id": "d2770696"
      },
      "source": [
        "### Question 9: Write a Python program to find the intersection of two tuples.\n",
        "\n",
        "- `Sample Input: (1, 2, 3, 4, 5), (4, 5, 6, 7, 8)`\n",
        "- `Sample Output: (4, 5)`"
      ]
    },
    {
      "cell_type": "code",
      "execution_count": null,
      "id": "7fdc2e9c",
      "metadata": {
        "id": "7fdc2e9c"
      },
      "outputs": [],
      "source": [
        "# Please write The solution Here for above question 9:\n",
        "\n",
        "\n"
      ]
    },
    {
      "cell_type": "markdown",
      "id": "5c9a3f09",
      "metadata": {
        "id": "5c9a3f09"
      },
      "source": [
        "### Question 10: Write a Python program to sort a tuple of tuples by the second element of each tuple.\n",
        "\n",
        "- `Sample Input: ((1, 5), (3, 2), (2, 7), (4, 6))`\n",
        "- `Sample Output: ((3, 2), (1, 5), (4, 6), (2, 7)`"
      ]
    },
    {
      "cell_type": "code",
      "execution_count": null,
      "id": "57c0c30e",
      "metadata": {
        "id": "57c0c30e"
      },
      "outputs": [],
      "source": [
        "# Please write The solution Here for above question 10:\n",
        "\n",
        "\n"
      ]
    },
    {
      "cell_type": "markdown",
      "id": "49b9ef01",
      "metadata": {},
      "source": [
        "Write a Python program to generate a n x n matrix filled with numbers from 1 to n^2 in a spiral order using loops.\n",
        "\n",
        "sample input = 4\n",
        "\n",
        "sample output =\n",
        "\n",
        "1 2 3 4\n",
        "\n",
        "12 13 14 5\n",
        "\n",
        "11 16 15 6\n",
        "\n",
        "10 9 8 7"
      ]
    },
    {
      "cell_type": "code",
      "execution_count": null,
      "id": "e8b2d16e",
      "metadata": {},
      "outputs": [],
      "source": []
    },
    {
      "cell_type": "markdown",
      "id": "acab1429",
      "metadata": {},
      "source": [
        "Write a Python program to check if a given n x n matrix is a magic square.A magic square is a grid where the sum of every row, column, and diagonal is the same.\n",
        "\n",
        "sample input =\n",
        "\n",
        "[[2, 7, 6],\n",
        "\n",
        "[9, 5, 1],\n",
        "\n",
        "[4, 3, 8]]\n",
        "\n",
        "sample output = This is a magic square."
      ]
    },
    {
      "cell_type": "markdown",
      "id": "9972afa0",
      "metadata": {},
      "source": []
    },
    {
      "cell_type": "markdown",
      "id": "7c0a6ed5",
      "metadata": {},
      "source": [
        "Write a Python program to generate the following triangle pattern:\n",
        "\n",
        "sample input = 4\n",
        "\n",
        "sample output =\n",
        "\n",
        "1\n",
        "\n",
        "2 3\n",
        "\n",
        "4 5 6\n",
        "\n",
        "7 8 9 10"
      ]
    },
    {
      "cell_type": "markdown",
      "id": "9e7cc003",
      "metadata": {},
      "source": []
    }
  ],
  "metadata": {
    "colab": {
      "provenance": []
    },
    "kernelspec": {
      "display_name": "Python 3 (ipykernel)",
      "language": "python",
      "name": "python3"
    },
    "language_info": {
      "codemirror_mode": {
        "name": "ipython",
        "version": 3
      },
      "file_extension": ".py",
      "mimetype": "text/x-python",
      "name": "python",
      "nbconvert_exporter": "python",
      "pygments_lexer": "ipython3",
      "version": "3.11.5"
    }
  },
  "nbformat": 4,
  "nbformat_minor": 5
}
