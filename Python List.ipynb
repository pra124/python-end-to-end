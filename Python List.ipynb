{
 "cells": [
  {
   "cell_type": "markdown",
   "id": "b5fabd6b",
   "metadata": {},
   "source": [
    "<a href=\"https://www.viharatech.com\"><img src=\"https://miro.medium.com/v2/resize:fit:828/format:webp/1*on2Bpj6A5gfd-CzaFOAZRA.jpeg\"></a>\n",
    "\n",
    "\n",
    "- `Welcome to our interactive learning session! In this Jupyter notebook, you'll find a series of questions related to Python List Concept. To maximize your learning, please write Python code in the cell below each question and execute it. This hands-on practice will help reinforce your understanding of the concepts. Feel free to reach out if you have any questions or need assistance. Happy coding! 💻🐍 `"
   ]
  },
  {
   "cell_type": "markdown",
   "id": "db689fc2",
   "metadata": {},
   "source": [
    "### Question 1: Write a Python program to count the number of elements in a list without using len.\n",
    "\n",
    "\n",
    "- `sample input : `\n",
    "    - `var = [10,11,12,13]`\n",
    "- `sample output :`\n",
    "    - `result : 4`"
   ]
  },
  {
   "cell_type": "code",
   "execution_count": 19,
   "id": "c9ce9180",
   "metadata": {},
   "outputs": [],
   "source": [
    "# Please write The solution Here for above question 1:\n",
    "\n",
    "\n"
   ]
  },
  {
   "cell_type": "markdown",
   "id": "46f069cc",
   "metadata": {},
   "source": [
    "### Question 2: Write a Python program to find the maximum and minimum values in a given list.\n",
    "\n",
    "- `sample input : `\n",
    "    - `var = [10,11,12,13,14,15]`\n",
    "- `sample output :`\n",
    "    - `result : max = 15 , min = 10`"
   ]
  },
  {
   "cell_type": "code",
   "execution_count": 18,
   "id": "2cde3dcc",
   "metadata": {},
   "outputs": [],
   "source": [
    "# Please write The solution Here for above question 2:\n",
    "\n",
    "\n",
    "\n"
   ]
  },
  {
   "cell_type": "markdown",
   "id": "0f3a2ef5",
   "metadata": {},
   "source": [
    "### Question 3: Write a Python program to remove the first occurrence of a specified element from a list.\n",
    "\n",
    "- `sample input : `\n",
    "    - `var = [1,2,3,4,2,5]`\n",
    "- `sample output :`\n",
    "    - `result : [1,3,4,2,5]`\n",
    "    "
   ]
  },
  {
   "cell_type": "code",
   "execution_count": 2,
   "id": "74b9f01a",
   "metadata": {},
   "outputs": [],
   "source": [
    "# Please write The solution Here for above question 3:\n",
    "\n",
    "\n"
   ]
  },
  {
   "cell_type": "markdown",
   "id": "98e0fc60",
   "metadata": {},
   "source": [
    "### Question 4: Write a Python program to find the average of all the elements in a list.\n",
    "\n",
    "\n",
    "- `sample input : `\n",
    "    - `var = [1,2,3,4,2,5]`\n",
    "- `sample output :`\n",
    "    - `result : 2.833 `"
   ]
  },
  {
   "cell_type": "code",
   "execution_count": null,
   "id": "5ed30f02",
   "metadata": {},
   "outputs": [],
   "source": [
    "# Please write The solution Here for above question 4:\n",
    "\n"
   ]
  },
  {
   "cell_type": "markdown",
   "id": "17eb44eb",
   "metadata": {},
   "source": [
    "### Question 5: Write a Python program to check if a list is empty or not.\n",
    "\n",
    "\n",
    "- `sample input : `\n",
    "    - `var1 = [1,2]`\n",
    "- `sample output :`\n",
    "    - `result : Not empty`\n",
    "    \n",
    "- `sample input : `\n",
    "    - `var1 = []`\n",
    "- `sample output :`\n",
    "    - `result :empty`\n",
    "    \n",
    " "
   ]
  },
  {
   "cell_type": "code",
   "execution_count": 6,
   "id": "29f0e87e",
   "metadata": {},
   "outputs": [],
   "source": [
    "# Please write The solution Here for above question 5:\n",
    "\n"
   ]
  },
  {
   "cell_type": "markdown",
   "id": "fac17884",
   "metadata": {},
   "source": [
    "### Question 6:  Write a Python program to find the index of a specified element in a list..\n",
    "\n",
    "- `sample input : `\n",
    "    - `var = [1,2,3,4,2,5]`\n",
    "- `sample output :`\n",
    "    - `result : 3 index is 2`"
   ]
  },
  {
   "cell_type": "code",
   "execution_count": 7,
   "id": "f4b33095",
   "metadata": {},
   "outputs": [],
   "source": [
    "# Please write The solution Here for above question 6:\n",
    "\n"
   ]
  },
  {
   "cell_type": "markdown",
   "id": "2170d6f4",
   "metadata": {},
   "source": [
    "### Question 7: Write a Python program to find which number is palindrome in below given list .\n",
    "\n",
    "- `sample input : `\n",
    "    - `var = [134,121,155]`\n",
    "- `sample output :`\n",
    "    - `result : 134 is not a palindome , 121 is a palindrome `"
   ]
  },
  {
   "cell_type": "code",
   "execution_count": 3,
   "id": "f35de8b3",
   "metadata": {},
   "outputs": [],
   "source": [
    "# Please write The solution Here for above question 7:\n",
    "\n"
   ]
  },
  {
   "cell_type": "markdown",
   "id": "f349bdb7",
   "metadata": {},
   "source": [
    "### Question 8: Write a Python program to find the common elements between two lists.\n",
    "\n",
    "- `sample input : `\n",
    "    - `var1 = [1,2,3,4,10]`\n",
    "    - `var2 = [10,11,12,14]`\n",
    "- `sample output :`\n",
    "    - `result : 10`"
   ]
  },
  {
   "cell_type": "code",
   "execution_count": 9,
   "id": "a1b4c4e6",
   "metadata": {},
   "outputs": [],
   "source": [
    "# Please write The solution Here for above question 8:\n",
    "\n"
   ]
  },
  {
   "cell_type": "markdown",
   "id": "d2770696",
   "metadata": {},
   "source": [
    "### Question 9: Write a Python program to remove the duplicates from a list\n",
    "\n",
    "- `sample input : `\n",
    "    - `var = [10,11,12,10,12,24]`\n",
    "- `sample output :`\n",
    "    - `result : [10,11,12,24]`"
   ]
  },
  {
   "cell_type": "code",
   "execution_count": 5,
   "id": "7fdc2e9c",
   "metadata": {},
   "outputs": [],
   "source": [
    "# Please write The solution Here for above question 9:\n",
    "\n"
   ]
  },
  {
   "cell_type": "markdown",
   "id": "5c9a3f09",
   "metadata": {},
   "source": [
    "### Question 10:  Write a Python program to sort a list of strings in Ascii Order [Ascending order]\n",
    "\n",
    "\n",
    "- `sample input : `\n",
    "    - `var = ['a' , 'c' , 'b']`\n",
    "- `sample output :`\n",
    "    - `result : ['a' , 'b' , 'c']`\n"
   ]
  },
  {
   "cell_type": "code",
   "execution_count": 8,
   "id": "57c0c30e",
   "metadata": {},
   "outputs": [],
   "source": [
    "# Please write The solution Here for above question 10:\n",
    "\n"
   ]
  }
 ],
 "metadata": {
  "kernelspec": {
   "display_name": "Python 3 (ipykernel)",
   "language": "python",
   "name": "python3"
  },
  "language_info": {
   "codemirror_mode": {
    "name": "ipython",
    "version": 3
   },
   "file_extension": ".py",
   "mimetype": "text/x-python",
   "name": "python",
   "nbconvert_exporter": "python",
   "pygments_lexer": "ipython3",
   "version": "3.11.5"
  }
 },
 "nbformat": 4,
 "nbformat_minor": 5
}
